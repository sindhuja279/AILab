{
  "nbformat": 4,
  "nbformat_minor": 0,
  "metadata": {
    "colab": {
      "provenance": [],
      "authorship_tag": "ABX9TyNNorNh+cFY2e87erDpE12e",
      "include_colab_link": true
    },
    "kernelspec": {
      "name": "python3",
      "display_name": "Python 3"
    },
    "language_info": {
      "name": "python"
    }
  },
  "cells": [
    {
      "cell_type": "markdown",
      "metadata": {
        "id": "view-in-github",
        "colab_type": "text"
      },
      "source": [
        "<a href=\"https://colab.research.google.com/github/sindhuja279/AILab/blob/main/1BM22CS279_AlphaBetaPruning.ipynb\" target=\"_parent\"><img src=\"https://colab.research.google.com/assets/colab-badge.svg\" alt=\"Open In Colab\"/></a>"
      ]
    },
    {
      "cell_type": "code",
      "execution_count": 4,
      "metadata": {
        "colab": {
          "base_uri": "https://localhost:8080/"
        },
        "id": "GaEHZFBvo6pv",
        "outputId": "6e56352a-dbd7-4eee-f390-3f8622c69bb8"
      },
      "outputs": [
        {
          "output_type": "stream",
          "name": "stdout",
          "text": [
            "Enter the leaf node values separated by spaces: -1 8 -3 -1 2 1 -3 4\n",
            "Optimal value calculated using Minimax: 2\n"
          ]
        }
      ],
      "source": [
        "import math\n",
        "\n",
        "def minimax(depth, index, maximizing_player, values, alpha, beta):\n",
        "    # Base case: when we've reached the leaf nodes\n",
        "    if depth == 0:\n",
        "        return values[index]\n",
        "\n",
        "    if maximizing_player:\n",
        "        max_eval = float('-inf')\n",
        "        for i in range(2):  # 2 children per node\n",
        "            eval = minimax(depth - 1, index * 2 + i, False, values, alpha, beta)\n",
        "            max_eval = max(max_eval, eval)\n",
        "            alpha = max(alpha, eval)\n",
        "            if beta <= alpha:  # Beta cutoff\n",
        "                break\n",
        "        return max_eval\n",
        "    else:\n",
        "        min_eval = float('inf')\n",
        "        for i in range(2):  # 2 children per node\n",
        "            eval = minimax(depth - 1, index * 2 + i, True, values, alpha, beta)\n",
        "            min_eval = min(min_eval, eval)\n",
        "            beta = min(beta, eval)\n",
        "            if beta <= alpha:  # Alpha cutoff\n",
        "                break\n",
        "        return min_eval\n",
        "\n",
        "\n",
        "# Accept values from the user\n",
        "leaf_values = list(map(int, input(\"Enter the leaf node values separated by spaces: \").split()))\n",
        "\n",
        "# Check if the number of values is a power of 2\n",
        "if math.log2(len(leaf_values)) % 1 != 0:\n",
        "    print(\"Error: The number of leaf nodes must be a power of 2 (e.g., 2, 4, 8, 16).\")\n",
        "else:\n",
        "    # Calculate depth of the tree\n",
        "    tree_depth = int(math.log2(len(leaf_values)))\n",
        "\n",
        "    # Run Minimax with Alpha-Beta Pruning\n",
        "    optimal_value = minimax(depth=tree_depth, index=0, maximizing_player=True, values=leaf_values, alpha=float('-inf'), beta=float('inf'))\n",
        "\n",
        "    print(\"Optimal value calculated using Minimax:\",optimal_value)"
      ]
    }
  ]
}