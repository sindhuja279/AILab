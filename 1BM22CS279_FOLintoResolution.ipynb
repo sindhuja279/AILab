{
  "nbformat": 4,
  "nbformat_minor": 0,
  "metadata": {
    "colab": {
      "provenance": [],
      "authorship_tag": "ABX9TyNJmGBUuz2u62b6I9eJ2Z8I",
      "include_colab_link": true
    },
    "kernelspec": {
      "name": "python3",
      "display_name": "Python 3"
    },
    "language_info": {
      "name": "python"
    }
  },
  "cells": [
    {
      "cell_type": "markdown",
      "metadata": {
        "id": "view-in-github",
        "colab_type": "text"
      },
      "source": [
        "<a href=\"https://colab.research.google.com/github/sindhuja279/AILab/blob/main/1BM22CS279_FOLintoResolution.ipynb\" target=\"_parent\"><img src=\"https://colab.research.google.com/assets/colab-badge.svg\" alt=\"Open In Colab\"/></a>"
      ]
    },
    {
      "cell_type": "code",
      "source": [
        "class CNFReasoner:\n",
        "    def __init__(self, clauses):\n",
        "        \"\"\"\n",
        "        Initializes the CNF Reasoner.\n",
        "\n",
        "        Parameters:\n",
        "            clauses (list of sets): List of clauses in CNF format.\n",
        "        \"\"\"\n",
        "        self.clauses = [set(clause) for clause in clauses]\n",
        "\n",
        "    def resolve(self, clause1, clause2):\n",
        "        \"\"\"\n",
        "        Resolve two clauses to produce new clauses if possible.\n",
        "\n",
        "        Parameters:\n",
        "            clause1 (set): The first clause (set of literals).\n",
        "            clause2 (set): The second clause (set of literals).\n",
        "\n",
        "        Returns:\n",
        "            list: A list of resolved clauses (sets of literals).\n",
        "        \"\"\"\n",
        "        resolvents = []\n",
        "        for literal in clause1:\n",
        "            neg_literal = f\"~{literal}\" if not literal.startswith(\"~\") else literal[1:]\n",
        "            if neg_literal in clause2:\n",
        "                # Create a new clause by removing complementary literals\n",
        "                new_clause = (clause1 - {literal}) | (clause2 - {neg_literal})\n",
        "                resolvents.append(new_clause)\n",
        "        return resolvents\n",
        "\n",
        "    def infer(self, goal):\n",
        "        \"\"\"\n",
        "        Infer whether the goal is provable using resolution.\n",
        "\n",
        "        Parameters:\n",
        "            goal (set): The negation of the goal to be proved.\n",
        "\n",
        "        Returns:\n",
        "            bool: True if the goal is provable, False otherwise.\n",
        "        \"\"\"\n",
        "        goal_clause = {f\"~{literal}\" for literal in goal}\n",
        "        clauses = self.clauses + [goal_clause]  # Add the negated goal to clauses\n",
        "        new = set()\n",
        "\n",
        "        while True:\n",
        "            pairs = [(clauses[i], clauses[j]) for i in range(len(clauses)) for j in range(i + 1, len(clauses))]\n",
        "            for (clause1, clause2) in pairs:\n",
        "                resolvents = self.resolve(clause1, clause2)\n",
        "                for resolvent in resolvents:\n",
        "                    if not resolvent:  # Found an empty clause, goal is proved\n",
        "                        return True\n",
        "                    new.add(frozenset(resolvent))\n",
        "\n",
        "            # Check if no new information is being added\n",
        "            if new.issubset(set(map(frozenset, clauses))):\n",
        "                return False\n",
        "\n",
        "            # Add new resolvents to the clauses\n",
        "            for clause in new:\n",
        "                if clause not in clauses:\n",
        "                    clauses.append(set(clause))\n",
        "\n",
        "\n",
        "# Define the CNF clauses based on the FOL premises\n",
        "cnf_clauses = [\n",
        "    {\"~Food(X)\", \"Likes(John, X)\"},  # Rule 1: If Food(X), then Likes(John, X)\n",
        "    {\"~Eats(Anil, Peanuts)\", \"Food(Peanuts)\"},  # Rule 2.1: If Anil eats peanuts, peanuts are food\n",
        "    {\"~Alive(Anil)\", \"Food(Peanuts)\"},  # Rule 2.2: If Anil is alive, peanuts are food\n",
        "    {\"~Food(Peanuts)\", \"Likes(John, Peanuts)\"},  # Rule 3: If peanuts are food, John likes peanuts\n",
        "    {\"Eats(Anil, Peanuts)\"},  # Fact 1: Anil eats peanuts\n",
        "    {\"Alive(Anil)\"},  # Fact 2: Anil is alive\n",
        "]\n",
        "\n",
        "# Define the goal: Prove that John likes peanuts\n",
        "goal = {\"Likes(John, Peanuts)\"}\n",
        "\n",
        "# Initialize the reasoner and infer\n",
        "reasoner = CNFReasoner(cnf_clauses)\n",
        "if reasoner.infer(goal):\n",
        "    print(\"Proved: John likes peanuts.\")\n",
        "else:\n",
        "    print(\"Could not prove: John likes peanuts.\")\n"
      ],
      "metadata": {
        "colab": {
          "base_uri": "https://localhost:8080/"
        },
        "id": "ooMyVkCxi3h7",
        "outputId": "70bcd8b2-42c9-4560-b599-f3ec8f5944c1"
      },
      "execution_count": 9,
      "outputs": [
        {
          "output_type": "stream",
          "name": "stdout",
          "text": [
            "Proved: John likes peanuts.\n"
          ]
        }
      ]
    }
  ]
}