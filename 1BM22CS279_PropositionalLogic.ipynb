{
  "nbformat": 4,
  "nbformat_minor": 0,
  "metadata": {
    "colab": {
      "provenance": [],
      "authorship_tag": "ABX9TyNFJ3E2ZHhWtYr9apsePODj"
    },
    "kernelspec": {
      "name": "python3",
      "display_name": "Python 3"
    },
    "language_info": {
      "name": "python"
    }
  },
  "cells": [
    {
      "cell_type": "code",
      "execution_count": 1,
      "metadata": {
        "colab": {
          "base_uri": "https://localhost:8080/"
        },
        "id": "SzqTLzXoO3ZC",
        "outputId": "c1c8ec27-1d67-45f4-e3e3-c11c35719398"
      },
      "outputs": [
        {
          "output_type": "stream",
          "name": "stdout",
          "text": [
            "A         B         C         KB             alpha          KB entails alpha?\n",
            "----------------------------------------------------------------------\n",
            "False     False     False     False          False          No\n",
            "False     False     True      False          False          No\n",
            "False     True      False     False          True           No\n",
            "False     True      True      True           True           Yes\n",
            "True      False     False     True           True           Yes\n",
            "True      False     True      False          True           No\n",
            "True      True      False     True           True           Yes\n",
            "True      True      True      True           True           Yes\n",
            "\n",
            "Does KB entail alpha? True\n"
          ]
        }
      ],
      "source": [
        "import itertools\n",
        "\n",
        "def evaluate_formula(formula, valuation):\n",
        "    \"\"\"\n",
        "    Evaluate the propositional formula under the given truth assignment (valuation).\n",
        "    The formula is a string of logical operators like 'AND', 'OR', 'NOT', and can contain variables 'A', 'B', 'C'.\n",
        "    \"\"\"\n",
        "    # Create a local environment (dictionary) for variable assignments\n",
        "    env = {var: valuation[i] for i, var in enumerate(['A', 'B', 'C'])}\n",
        "\n",
        "    # Replace logical operators with Python equivalents\n",
        "    formula = formula.replace('AND', 'and').replace('OR', 'or').replace('NOT', 'not')\n",
        "\n",
        "    # Replace variables in the formula with their corresponding truth values\n",
        "    for var in env:\n",
        "        formula = formula.replace(var, str(env[var]))\n",
        "\n",
        "    # Evaluate the formula and return the result (True or False)\n",
        "    try:\n",
        "        return eval(formula)\n",
        "    except Exception as e:\n",
        "        raise ValueError(f\"Error in evaluating formula: {e}\")\n",
        "\n",
        "def truth_table(variables):\n",
        "    \"\"\"\n",
        "    Generate all possible truth assignments for the given variables.\n",
        "    \"\"\"\n",
        "    return list(itertools.product([False, True], repeat=len(variables)))\n",
        "\n",
        "def entails(KB, alpha):\n",
        "    \"\"\"\n",
        "    Decide if KB entails alpha using a truth-table enumeration algorithm.\n",
        "    KB is a propositional formula (string), and alpha is another propositional formula (string).\n",
        "    \"\"\"\n",
        "    # Generate all possible truth assignments for A, B, and C\n",
        "    assignments = truth_table(['A', 'B', 'C'])\n",
        "\n",
        "    print(f\"{'A':<10}{'B':<10}{'C':<10}{'KB':<15}{'alpha':<15}{'KB entails alpha?'}\")  # Header for the truth table\n",
        "    print(\"-\" * 70)  # Separator for readability\n",
        "\n",
        "    for assignment in assignments:\n",
        "        # Evaluate KB and alpha under the current assignment\n",
        "        KB_value = evaluate_formula(KB, assignment)\n",
        "        alpha_value = evaluate_formula(alpha, assignment)\n",
        "\n",
        "        # Print the current truth assignment and the results for KB and alpha\n",
        "        print(f\"{str(assignment[0]):<10}{str(assignment[1]):<10}{str(assignment[2]):<10}{str(KB_value):<15}{str(alpha_value):<15}{'Yes' if KB_value and alpha_value else 'No'}\")\n",
        "\n",
        "        # If KB is true and alpha is false, then KB does not entail alpha\n",
        "        if KB_value and not alpha_value:\n",
        "            return False\n",
        "\n",
        "    # If no counterexample was found, then KB entails alpha\n",
        "    return True\n",
        "\n",
        "# Define the formulas for KB and alpha\n",
        "alpha = 'A OR B'\n",
        "KB = '(A OR C) AND (B OR NOT C)'\n",
        "\n",
        "# Check if KB entails alpha\n",
        "result = entails(KB, alpha)\n",
        "\n",
        "# Print the final result of entailment\n",
        "print(f\"\\nDoes KB entail alpha? {result}\")\n",
        "\n"
      ]
    }
  ]
}