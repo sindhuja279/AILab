{
  "nbformat": 4,
  "nbformat_minor": 0,
  "metadata": {
    "colab": {
      "provenance": [],
      "authorship_tag": "ABX9TyPLSpA8i23pzFuhWsTdFcIH",
      "include_colab_link": true
    },
    "kernelspec": {
      "name": "python3",
      "display_name": "Python 3"
    },
    "language_info": {
      "name": "python"
    }
  },
  "cells": [
    {
      "cell_type": "markdown",
      "metadata": {
        "id": "view-in-github",
        "colab_type": "text"
      },
      "source": [
        "<a href=\"https://colab.research.google.com/github/sindhuja279/AILab/blob/main/SimulatedAnnealing.ipynb\" target=\"_parent\"><img src=\"https://colab.research.google.com/assets/colab-badge.svg\" alt=\"Open In Colab\"/></a>"
      ]
    },
    {
      "cell_type": "code",
      "source": [
        "!pip install joblib==1.2.0\n",
        "import mlrose_hiive as mlrose\n",
        "import numpy as np\n",
        "\n",
        "# Define the objective function\n",
        "def queens_max(position):\n",
        "    no_attack_on_j = 0\n",
        "    queen_not_attacking = 0\n",
        "    for i in range(len(position) - 1):\n",
        "        no_attack_on_j = i\n",
        "        for j in range(i + 1, len(position)):\n",
        "            if (position[j] != position[i] and\n",
        "                position[j] != position[i] + (j - i) and\n",
        "                position[j] != position[i] - (j - i)):\n",
        "                no_attack_on_j += 1\n",
        "            if (no_attack_on_j == len(position) - i - 1):\n",
        "                queen_not_attacking += 1\n",
        "    if(queen_not_attacking == 7):\n",
        "        queen_not_attacking += 1\n",
        "    return queen_not_attacking\n",
        "\n",
        "# Define the fitness function\n",
        "objective = mlrose.CustomFitness(queens_max)\n",
        "\n",
        "# Define the optimization problem\n",
        "problem = mlrose.DiscreteOpt(length=8, fitness_fn=objective, maximize=True, max_val=8)\n",
        "\n",
        "# Define the annealing schedule and other parameters\n",
        "T = mlrose.ExpDecay()\n",
        "initial_position = np.array([4, 6, 1, 5, 2, 0, 3, 7])\n",
        "\n",
        "# Run simulated annealing, assigning the extra return value to _\n",
        "best_position, best_objective, _ = mlrose.simulated_annealing(problem=problem, schedule=T,max_attempts=500, max_iters=1000, init_state=initial_position)\n",
        "\n",
        "# Print the results\n",
        "print(\"The best position found is:\", best_position)\n",
        "print(\"The number of queens that are not attacking each other is:\", best_objective)"
      ],
      "metadata": {
        "colab": {
          "base_uri": "https://localhost:8080/"
        },
        "id": "xfGFt-PWhV80",
        "outputId": "7162d9b6-9869-49b5-a603-90cf15285e2f"
      },
      "execution_count": 2,
      "outputs": [
        {
          "output_type": "stream",
          "name": "stdout",
          "text": [
            "Requirement already satisfied: joblib==1.2.0 in /usr/local/lib/python3.10/dist-packages (1.2.0)\n",
            "The best position found is: [0 7 5 1 6 1 1 5]\n",
            "The number of queens that are not attacking each other is: 9.0\n"
          ]
        }
      ]
    },
    {
      "cell_type": "code",
      "source": [
        "import random\n",
        "import math\n",
        "import matplotlib.pyplot as plt\n",
        "\n",
        "def create_initial_solution(n):\n",
        "    return random.sample(range(n), n)\n",
        "\n",
        "def calculate_fitness(state):\n",
        "    n = len(state)\n",
        "    row_conflicts = sum([state.count(i) - 1 for i in state])\n",
        "    diagonal_conflicts = 0\n",
        "\n",
        "    for i in range(n):\n",
        "        for j in range(i + 1, n):\n",
        "            if abs(state[i] - state[j]) == abs(i - j):\n",
        "                diagonal_conflicts += 1\n",
        "\n",
        "    return row_conflicts + diagonal_conflicts\n",
        "\n",
        "def random_neighbor(state):\n",
        "    neighbor = state[:]\n",
        "    i = random.randint(0, len(state) - 1)\n",
        "    neighbor[i] = random.randint(0, len(state) - 1)\n",
        "    return neighbor\n",
        "\n",
        "def simulated_annealing(n, initial_temp=1000, cooling_rate=0.95, max_iterations=1000):\n",
        "    current_solution = create_initial_solution(n)\n",
        "    current_fitness = calculate_fitness(current_solution)\n",
        "    best_solution = current_solution\n",
        "    best_fitness = current_fitness\n",
        "    temperature = initial_temp\n",
        "\n",
        "    for iteration in range(max_iterations):\n",
        "        neighbor = random_neighbor(current_solution)\n",
        "        neighbor_fitness = calculate_fitness(neighbor)\n",
        "\n",
        "        fitness_diff = neighbor_fitness - current_fitness\n",
        "\n",
        "        if fitness_diff < 0 or random.uniform(0, 1) < math.exp(-fitness_diff / temperature):\n",
        "            current_solution = neighbor\n",
        "            current_fitness = neighbor_fitness\n",
        "\n",
        "            if current_fitness < best_fitness:\n",
        "                best_solution = current_solution\n",
        "                best_fitness = current_fitness\n",
        "\n",
        "        temperature *= cooling_rate\n",
        "\n",
        "    return best_solution, best_fitness\n",
        "\n",
        "def plot_solution(solution):\n",
        "    n = len(solution)\n",
        "    plt.figure(figsize=(n, n))\n",
        "    plt.xlim(-1, n)\n",
        "    plt.ylim(-1, n)\n",
        "\n",
        "    # Draw the chessboard\n",
        "    for i in range(n):\n",
        "        for j in range(n):\n",
        "            if (i + j) % 2 == 0:\n",
        "                plt.gca().add_patch(plt.Rectangle((j, i), 1, 1, color='darkgrey'))\n",
        "\n",
        "    # Place the queens\n",
        "    for col, row in enumerate(solution):\n",
        "        plt.gca().add_patch(plt.Circle((col + 0.5, row + 0.5), 0.4, color='purple'))\n",
        "\n",
        "    plt.xticks(range(n))\n",
        "    plt.yticks(range(n))\n",
        "    plt.gca().invert_yaxis()\n",
        "    plt.grid(False)\n",
        "    plt.show()\n",
        "\n",
        "# Parameters\n",
        "n = 8  # Number of queens\n",
        "best_solution, best_fitness = simulated_annealing(n)\n",
        "\n",
        "# Output results\n",
        "print(f\"Best state (Queen positions): {best_solution}, Number of conflicts: {best_fitness}\")\n",
        "\n",
        "# Plot the solution\n",
        "plot_solution(best_solution)\n"
      ],
      "metadata": {
        "colab": {
          "base_uri": "https://localhost:8080/",
          "height": 693
        },
        "id": "UNyYDo9hkPrC",
        "outputId": "b7fd8c4e-8893-40cb-b027-6ec585bd22f4"
      },
      "execution_count": 32,
      "outputs": [
        {
          "output_type": "stream",
          "name": "stdout",
          "text": [
            "Best state (Queen positions): [7, 3, 0, 2, 5, 1, 6, 4], Number of conflicts: 0\n"
          ]
        },
        {
          "output_type": "display_data",
          "data": {
            "text/plain": [
              "<Figure size 800x800 with 1 Axes>"
            ],
            "image/png": "[encoded data removed]"
          },
          "metadata": {}
        }
      ]
    }
  ]
}